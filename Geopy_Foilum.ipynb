{
  "nbformat": 4,
  "nbformat_minor": 0,
  "metadata": {
    "colab": {
      "provenance": []
    },
    "kernelspec": {
      "name": "python3",
      "display_name": "Python 3"
    },
    "language_info": {
      "name": "python"
    }
  },
  "cells": [
    {
      "cell_type": "code",
      "metadata": {
        "id": "f811x6NxW4E1"
      },
      "source": [
        "import requests\n",
        "from pprint import pprint"
      ],
      "execution_count": 1,
      "outputs": []
    },
    {
      "cell_type": "markdown",
      "metadata": {
        "id": "sbUS1RVjYZuO"
      },
      "source": [
        "Let's define the base URL for the Nominatim API. We specify `format=json` because we want the output in JSON - however, other types are available (for example, XML and GeoJSON)."
      ]
    },
    {
      "cell_type": "code",
      "metadata": {
        "id": "VlgPk4ZJYcyg"
      },
      "source": [
        "BASE_URL = 'https://nominatim.openstreetmap.org/search?format=json'"
      ],
      "execution_count": 2,
      "outputs": []
    },
    {
      "cell_type": "markdown",
      "metadata": {
        "id": "NnRtb1vmYtg8"
      },
      "source": [
        "Let's perform a GET request to this endpoint, and pass a postcode and a zipcode to retrieve the geographical information."
      ]
    },
    {
      "cell_type": "code",
      "metadata": {
        "colab": {
          "base_uri": "https://localhost:8080/"
        },
        "id": "QXPC-Ry1YzfN",
        "outputId": "bb5f3258-54c7-42f8-c8d0-5647375a72b0"
      },
      "source": [
        "postcode = '625001'\n",
        "\n",
        "response = requests.get(f\"{BASE_URL}&postalcode={postcode}\")\n",
        "data = response.json()\n",
        "pprint(data)"
      ],
      "execution_count": 3,
      "outputs": [
        {
          "output_type": "stream",
          "name": "stdout",
          "text": [
            "[{'addresstype': 'postcode',\n",
            "  'boundingbox': ['9.8394896', '10.1594896', '78.0131513', '78.3331513'],\n",
            "  'class': 'place',\n",
            "  'display_name': 'Madurai North, 625001, Madurai District, Tamil Nadu, India',\n",
            "  'importance': 0.22500009999999993,\n",
            "  'lat': '9.999489603448277',\n",
            "  'licence': 'Data © OpenStreetMap contributors, ODbL 1.0. '\n",
            "             'http://osm.org/copyright',\n",
            "  'lon': '78.1731512505747',\n",
            "  'name': '625001',\n",
            "  'place_id': 330360387,\n",
            "  'place_rank': 21,\n",
            "  'type': 'postcode'},\n",
            " {'addresstype': 'postcode',\n",
            "  'boundingbox': ['57.0118963', '57.3318963', '65.3394772', '65.6594772'],\n",
            "  'class': 'place',\n",
            "  'display_name': 'Калининский административный округ, Тюмень, городской округ '\n",
            "                  'Тюмень, 625001, Тюменская область, Уральский федеральный '\n",
            "                  'округ, Россия',\n",
            "  'importance': 0.22500009999999993,\n",
            "  'lat': '57.171896257142855',\n",
            "  'licence': 'Data © OpenStreetMap contributors, ODbL 1.0. '\n",
            "             'http://osm.org/copyright',\n",
            "  'lon': '65.49947724841269',\n",
            "  'name': '625001',\n",
            "  'place_id': 331000389,\n",
            "  'place_rank': 21,\n",
            "  'type': 'postcode'}]\n"
          ]
        }
      ]
    },
    {
      "cell_type": "markdown",
      "metadata": {
        "id": "gMdSKzI-grIX"
      },
      "source": [
        "Let's extract the bounding box and the latitude/longitude."
      ]
    },
    {
      "cell_type": "code",
      "metadata": {
        "colab": {
          "base_uri": "https://localhost:8080/"
        },
        "id": "0F9lt37zgttU",
        "outputId": "b8d9dbf5-a8f9-452b-ee88-430ed7c57c9e"
      },
      "source": [
        "latitude = data[0].get('lat')\n",
        "longitude = data[0].get('lon')\n",
        "print(latitude, longitude)\n",
        "\n",
        "bbox = data[0].get('boundingbox')\n",
        "print(bbox)"
      ],
      "execution_count": 4,
      "outputs": [
        {
          "output_type": "stream",
          "name": "stdout",
          "text": [
            "9.999489603448277 78.1731512505747\n",
            "['9.8394896', '10.1594896', '78.0131513', '78.3331513']\n"
          ]
        }
      ]
    },
    {
      "cell_type": "markdown",
      "metadata": {
        "id": "uuKxEbdgazFC"
      },
      "source": [
        "Now, let's look for a generic ZIP code - `2601`.\n",
        "\n"
      ]
    },
    {
      "cell_type": "code",
      "metadata": {
        "colab": {
          "base_uri": "https://localhost:8080/"
        },
        "id": "WhJJ1uKtZSnm",
        "outputId": "ef89415d-d84b-4c77-b53a-5f00dbf0047a"
      },
      "source": [
        "zipcode = '600001'\n",
        "\n",
        "response = requests.get(f\"{BASE_URL}&postalcode={zipcode}\")\n",
        "response.json()"
      ],
      "execution_count": 5,
      "outputs": [
        {
          "output_type": "execute_result",
          "data": {
            "text/plain": [
              "[{'place_id': 330359494,\n",
              "  'licence': 'Data © OpenStreetMap contributors, ODbL 1.0. http://osm.org/copyright',\n",
              "  'lat': '13.080528935714286',\n",
              "  'lon': '80.26703694642858',\n",
              "  'class': 'place',\n",
              "  'type': 'postcode',\n",
              "  'place_rank': 21,\n",
              "  'importance': 0.22500009999999993,\n",
              "  'addresstype': 'postcode',\n",
              "  'name': '600001',\n",
              "  'display_name': 'Zone 5 Royapuram, Chennai, 600001, Chennai District, Tamil Nadu, India',\n",
              "  'boundingbox': ['12.9205289', '13.2405289', '80.1070369', '80.4270369']},\n",
              " {'place_id': 330997676,\n",
              "  'licence': 'Data © OpenStreetMap contributors, ODbL 1.0. http://osm.org/copyright',\n",
              "  'lat': '56.11843257906977',\n",
              "  'lon': '40.3833436627907',\n",
              "  'class': 'place',\n",
              "  'type': 'postcode',\n",
              "  'place_rank': 21,\n",
              "  'importance': 0.22500009999999993,\n",
              "  'addresstype': 'postcode',\n",
              "  'name': '600001',\n",
              "  'display_name': 'Ленинский район, городской округ Владимир, 600001, Владимирская область, Центральный федеральный округ, Россия',\n",
              "  'boundingbox': ['55.9584326', '56.2784326', '40.2233437', '40.5433437']}]"
            ]
          },
          "metadata": {},
          "execution_count": 5
        }
      ]
    },
    {
      "cell_type": "markdown",
      "metadata": {
        "id": "dPEJ0xWJbHqL"
      },
      "source": [
        "We can see that there's a lot of results - many different countries have a ZIP code of 2601, including Austria, Australia, Hungary and Italy.\n",
        "\n",
        "We can append another query parameter to narrow this down to one country - let's say Italy. Just add `&country=italia` to the URL!"
      ]
    },
    {
      "cell_type": "code",
      "metadata": {
        "id": "FjqWHCR1b3Tf"
      },
      "source": [
        "response = requests.get(f\"{BASE_URL}&postalcode={zipcode}&country=india\")\n",
        "data = response.json()"
      ],
      "execution_count": 9,
      "outputs": []
    },
    {
      "cell_type": "markdown",
      "metadata": {
        "id": "FBLdH4v8ccbQ"
      },
      "source": [
        "Now, we get a list with a single record, for the Italian location with ZIP code 2106.\n",
        "\n",
        "To extract latitude and longitude, we can use the following code."
      ]
    },
    {
      "cell_type": "code",
      "metadata": {
        "colab": {
          "base_uri": "https://localhost:8080/"
        },
        "id": "1wqb4X48ch11",
        "outputId": "796f9002-f7b4-43c5-a5a0-c4aa794578fe"
      },
      "source": [
        "latitude2 = data[0].get('lat')\n",
        "longitude2 = data[0].get('lon')\n",
        "\n",
        "print(latitude2, longitude2)"
      ],
      "execution_count": 10,
      "outputs": [
        {
          "output_type": "stream",
          "name": "stdout",
          "text": [
            "13.080528935714286 80.26703694642858\n"
          ]
        }
      ]
    },
    {
      "cell_type": "markdown",
      "metadata": {
        "id": "78nA0aBAmiYk"
      },
      "source": [
        "### Mapping the Points\n",
        "\n",
        "Now we'll look quickly at how to plot these points on a map. We'll use Python's `folium` library to do this - it is an interface into the `Leaflet` JavaScript mapping library."
      ]
    },
    {
      "cell_type": "code",
      "metadata": {
        "colab": {
          "base_uri": "https://localhost:8080/",
          "height": 1000
        },
        "id": "UP_-ne9DXIFI",
        "outputId": "a72cbb5c-3e80-43c7-8458-48d574290631"
      },
      "source": [
        "import folium\n",
        "\n",
        "# create tuples representing our location\n",
        "location = float(latitude), float(longitude)\n",
        "location2 = float(latitude2), float(longitude2)\n",
        "\n",
        "# center the map at Amsterdam\n",
        "amsterdam = (52.3676, 4.9041)\n",
        "\n",
        "# create a Folium map centred at the above location\n",
        "m = folium.Map(location=amsterdam, zoom_start=4, width=1200, height=800)\n",
        "\n",
        "# add markers at the locations\n",
        "folium.Marker(location, popup=\"The postcode brought me here\").add_to(m)\n",
        "folium.Marker(location2, popup=\"The postcode brought me here\").add_to(m)\n",
        "\n",
        "# refer to the map to display it in Jupyter/Colab notebooks\n",
        "m"
      ],
      "execution_count": 21,
      "outputs": [
        {
          "output_type": "execute_result",
          "data": {
            "text/plain": [
              "<folium.folium.Map at 0x7cb88ac095a0>"
            ],
            "text/html": [
              "<div style=\"width:100%;\"><div style=\"position:relative;width:100%;height:0;padding-bottom:60%;\"><span style=\"color:#565656\">Make this Notebook Trusted to load map: File -> Trust Notebook</span><iframe srcdoc=\"&lt;!DOCTYPE html&gt;\n",
              "&lt;html&gt;\n",
              "&lt;head&gt;\n",
              "    \n",
              "    &lt;meta http-equiv=&quot;content-type&quot; content=&quot;text/html; charset=UTF-8&quot; /&gt;\n",
              "    \n",
              "        &lt;script&gt;\n",
              "            L_NO_TOUCH = false;\n",
              "            L_DISABLE_3D = false;\n",
              "        &lt;/script&gt;\n",
              "    \n",
              "    &lt;style&gt;html, body {width: 100%;height: 100%;margin: 0;padding: 0;}&lt;/style&gt;\n",
              "    &lt;style&gt;#map {position:absolute;top:0;bottom:0;right:0;left:0;}&lt;/style&gt;\n",
              "    &lt;script src=&quot;https://cdn.jsdelivr.net/npm/leaflet@1.9.3/dist/leaflet.js&quot;&gt;&lt;/script&gt;\n",
              "    &lt;script src=&quot;https://code.jquery.com/jquery-1.12.4.min.js&quot;&gt;&lt;/script&gt;\n",
              "    &lt;script src=&quot;https://cdn.jsdelivr.net/npm/bootstrap@5.2.2/dist/js/bootstrap.bundle.min.js&quot;&gt;&lt;/script&gt;\n",
              "    &lt;script src=&quot;https://cdnjs.cloudflare.com/ajax/libs/Leaflet.awesome-markers/2.0.2/leaflet.awesome-markers.js&quot;&gt;&lt;/script&gt;\n",
              "    &lt;link rel=&quot;stylesheet&quot; href=&quot;https://cdn.jsdelivr.net/npm/leaflet@1.9.3/dist/leaflet.css&quot;/&gt;\n",
              "    &lt;link rel=&quot;stylesheet&quot; href=&quot;https://cdn.jsdelivr.net/npm/bootstrap@5.2.2/dist/css/bootstrap.min.css&quot;/&gt;\n",
              "    &lt;link rel=&quot;stylesheet&quot; href=&quot;https://netdna.bootstrapcdn.com/bootstrap/3.0.0/css/bootstrap.min.css&quot;/&gt;\n",
              "    &lt;link rel=&quot;stylesheet&quot; href=&quot;https://cdn.jsdelivr.net/npm/@fortawesome/fontawesome-free@6.2.0/css/all.min.css&quot;/&gt;\n",
              "    &lt;link rel=&quot;stylesheet&quot; href=&quot;https://cdnjs.cloudflare.com/ajax/libs/Leaflet.awesome-markers/2.0.2/leaflet.awesome-markers.css&quot;/&gt;\n",
              "    &lt;link rel=&quot;stylesheet&quot; href=&quot;https://cdn.jsdelivr.net/gh/python-visualization/folium/folium/templates/leaflet.awesome.rotate.min.css&quot;/&gt;\n",
              "    \n",
              "            &lt;meta name=&quot;viewport&quot; content=&quot;width=device-width,\n",
              "                initial-scale=1.0, maximum-scale=1.0, user-scalable=no&quot; /&gt;\n",
              "            &lt;style&gt;\n",
              "                #map_81cabc0dba5c1a0786e5b135b99a6f91 {\n",
              "                    position: relative;\n",
              "                    width: 1200.0px;\n",
              "                    height: 800.0px;\n",
              "                    left: 0.0%;\n",
              "                    top: 0.0%;\n",
              "                }\n",
              "                .leaflet-container { font-size: 1rem; }\n",
              "            &lt;/style&gt;\n",
              "        \n",
              "&lt;/head&gt;\n",
              "&lt;body&gt;\n",
              "    \n",
              "    \n",
              "            &lt;div class=&quot;folium-map&quot; id=&quot;map_81cabc0dba5c1a0786e5b135b99a6f91&quot; &gt;&lt;/div&gt;\n",
              "        \n",
              "&lt;/body&gt;\n",
              "&lt;script&gt;\n",
              "    \n",
              "    \n",
              "            var map_81cabc0dba5c1a0786e5b135b99a6f91 = L.map(\n",
              "                &quot;map_81cabc0dba5c1a0786e5b135b99a6f91&quot;,\n",
              "                {\n",
              "                    center: [52.3676, 4.9041],\n",
              "                    crs: L.CRS.EPSG3857,\n",
              "                    zoom: 4,\n",
              "                    zoomControl: true,\n",
              "                    preferCanvas: false,\n",
              "                }\n",
              "            );\n",
              "\n",
              "            \n",
              "\n",
              "        \n",
              "    \n",
              "            var tile_layer_97de9b485e1b5ccf59980c1ded603145 = L.tileLayer(\n",
              "                &quot;https://{s}.tile.openstreetmap.org/{z}/{x}/{y}.png&quot;,\n",
              "                {&quot;attribution&quot;: &quot;Data by \\u0026copy; \\u003ca target=\\&quot;_blank\\&quot; href=\\&quot;http://openstreetmap.org\\&quot;\\u003eOpenStreetMap\\u003c/a\\u003e, under \\u003ca target=\\&quot;_blank\\&quot; href=\\&quot;http://www.openstreetmap.org/copyright\\&quot;\\u003eODbL\\u003c/a\\u003e.&quot;, &quot;detectRetina&quot;: false, &quot;maxNativeZoom&quot;: 18, &quot;maxZoom&quot;: 18, &quot;minZoom&quot;: 0, &quot;noWrap&quot;: false, &quot;opacity&quot;: 1, &quot;subdomains&quot;: &quot;abc&quot;, &quot;tms&quot;: false}\n",
              "            ).addTo(map_81cabc0dba5c1a0786e5b135b99a6f91);\n",
              "        \n",
              "    \n",
              "            var marker_e3645a7b222aaf548f45f30355a01dc5 = L.marker(\n",
              "                [9.999489603448277, 78.1731512505747],\n",
              "                {}\n",
              "            ).addTo(map_81cabc0dba5c1a0786e5b135b99a6f91);\n",
              "        \n",
              "    \n",
              "        var popup_dfe6c4bc7b09ec1394df24350c744855 = L.popup({&quot;maxWidth&quot;: &quot;100%&quot;});\n",
              "\n",
              "        \n",
              "            \n",
              "                var html_2b177576c86c281b64f18a356c5f2f24 = $(`&lt;div id=&quot;html_2b177576c86c281b64f18a356c5f2f24&quot; style=&quot;width: 100.0%; height: 100.0%;&quot;&gt;The postcode brought me here&lt;/div&gt;`)[0];\n",
              "                popup_dfe6c4bc7b09ec1394df24350c744855.setContent(html_2b177576c86c281b64f18a356c5f2f24);\n",
              "            \n",
              "        \n",
              "\n",
              "        marker_e3645a7b222aaf548f45f30355a01dc5.bindPopup(popup_dfe6c4bc7b09ec1394df24350c744855)\n",
              "        ;\n",
              "\n",
              "        \n",
              "    \n",
              "    \n",
              "            var marker_af9bca16015098f8fd0d2d7a04935a53 = L.marker(\n",
              "                [13.080528935714286, 80.26703694642858],\n",
              "                {}\n",
              "            ).addTo(map_81cabc0dba5c1a0786e5b135b99a6f91);\n",
              "        \n",
              "    \n",
              "        var popup_a32e99e963fce43e325ea3f5a0fd3245 = L.popup({&quot;maxWidth&quot;: &quot;100%&quot;});\n",
              "\n",
              "        \n",
              "            \n",
              "                var html_4437011b99484ddcc928258d56e21b26 = $(`&lt;div id=&quot;html_4437011b99484ddcc928258d56e21b26&quot; style=&quot;width: 100.0%; height: 100.0%;&quot;&gt;The postcode brought me here&lt;/div&gt;`)[0];\n",
              "                popup_a32e99e963fce43e325ea3f5a0fd3245.setContent(html_4437011b99484ddcc928258d56e21b26);\n",
              "            \n",
              "        \n",
              "\n",
              "        marker_af9bca16015098f8fd0d2d7a04935a53.bindPopup(popup_a32e99e963fce43e325ea3f5a0fd3245)\n",
              "        ;\n",
              "\n",
              "        \n",
              "    \n",
              "&lt;/script&gt;\n",
              "&lt;/html&gt;\" style=\"position:absolute;width:100%;height:100%;left:0;top:0;border:none !important;\" allowfullscreen webkitallowfullscreen mozallowfullscreen></iframe></div></div>"
            ]
          },
          "metadata": {},
          "execution_count": 21
        }
      ]
    },
    {
      "cell_type": "code",
      "metadata": {
        "colab": {
          "base_uri": "https://localhost:8080/"
        },
        "id": "Kg4FcFexhIn1",
        "outputId": "784b78ab-983d-485b-e012-791533b67554"
      },
      "source": [
        "# generator expression to compute midpoint of the two locations\n",
        "# this works because both locations are of form: (lat, long)\n",
        "# zipping them together allows us to iterate over both lats at once,\n",
        "# and then both lons at once\n",
        "midpoint_gen = ((x+y)/2 for x,y in zip(location, location2))\n",
        "\n",
        "# convert generator to a tuple representing lat/longitude of the midpoint\n",
        "midpoint = tuple(midpoint_gen)\n",
        "\n",
        "print(location)\n",
        "print(location2)\n",
        "print(midpoint)"
      ],
      "execution_count": 12,
      "outputs": [
        {
          "output_type": "stream",
          "name": "stdout",
          "text": [
            "(9.999489603448277, 78.1731512505747)\n",
            "(13.080528935714286, 80.26703694642858)\n",
            "(11.540009269581281, 79.22009409850165)\n"
          ]
        }
      ]
    },
    {
      "cell_type": "markdown",
      "metadata": {
        "id": "nm3MTojAjFhB"
      },
      "source": [
        "Now, let's centre map at midpoint we found above, and display all the markers for each position."
      ]
    },
    {
      "cell_type": "code",
      "metadata": {
        "colab": {
          "base_uri": "https://localhost:8080/",
          "height": 1000
        },
        "id": "fd_re8TvjJg0",
        "outputId": "cf594951-d67f-4ea1-f50e-39b163a285e9"
      },
      "source": [
        "import folium\n",
        "\n",
        "# create Folium map\n",
        "m = folium.Map(location=midpoint, zoom_start=4, width=1200, height=800)\n",
        "\n",
        "# add marker at the locations\n",
        "folium.Marker(location, popup=\"The postcode brought me here\").add_to(m)\n",
        "folium.Marker(location2, popup=\"The postcode brought me here\").add_to(m)\n",
        "folium.Marker(midpoint, popup=\"Middle!\").add_to(m)\n",
        "\n",
        "m"
      ],
      "execution_count": 22,
      "outputs": [
        {
          "output_type": "execute_result",
          "data": {
            "text/plain": [
              "<folium.folium.Map at 0x7cb88ac0b8e0>"
            ],
            "text/html": [
              "<div style=\"width:100%;\"><div style=\"position:relative;width:100%;height:0;padding-bottom:60%;\"><span style=\"color:#565656\">Make this Notebook Trusted to load map: File -> Trust Notebook</span><iframe srcdoc=\"&lt;!DOCTYPE html&gt;\n",
              "&lt;html&gt;\n",
              "&lt;head&gt;\n",
              "    \n",
              "    &lt;meta http-equiv=&quot;content-type&quot; content=&quot;text/html; charset=UTF-8&quot; /&gt;\n",
              "    \n",
              "        &lt;script&gt;\n",
              "            L_NO_TOUCH = false;\n",
              "            L_DISABLE_3D = false;\n",
              "        &lt;/script&gt;\n",
              "    \n",
              "    &lt;style&gt;html, body {width: 100%;height: 100%;margin: 0;padding: 0;}&lt;/style&gt;\n",
              "    &lt;style&gt;#map {position:absolute;top:0;bottom:0;right:0;left:0;}&lt;/style&gt;\n",
              "    &lt;script src=&quot;https://cdn.jsdelivr.net/npm/leaflet@1.9.3/dist/leaflet.js&quot;&gt;&lt;/script&gt;\n",
              "    &lt;script src=&quot;https://code.jquery.com/jquery-1.12.4.min.js&quot;&gt;&lt;/script&gt;\n",
              "    &lt;script src=&quot;https://cdn.jsdelivr.net/npm/bootstrap@5.2.2/dist/js/bootstrap.bundle.min.js&quot;&gt;&lt;/script&gt;\n",
              "    &lt;script src=&quot;https://cdnjs.cloudflare.com/ajax/libs/Leaflet.awesome-markers/2.0.2/leaflet.awesome-markers.js&quot;&gt;&lt;/script&gt;\n",
              "    &lt;link rel=&quot;stylesheet&quot; href=&quot;https://cdn.jsdelivr.net/npm/leaflet@1.9.3/dist/leaflet.css&quot;/&gt;\n",
              "    &lt;link rel=&quot;stylesheet&quot; href=&quot;https://cdn.jsdelivr.net/npm/bootstrap@5.2.2/dist/css/bootstrap.min.css&quot;/&gt;\n",
              "    &lt;link rel=&quot;stylesheet&quot; href=&quot;https://netdna.bootstrapcdn.com/bootstrap/3.0.0/css/bootstrap.min.css&quot;/&gt;\n",
              "    &lt;link rel=&quot;stylesheet&quot; href=&quot;https://cdn.jsdelivr.net/npm/@fortawesome/fontawesome-free@6.2.0/css/all.min.css&quot;/&gt;\n",
              "    &lt;link rel=&quot;stylesheet&quot; href=&quot;https://cdnjs.cloudflare.com/ajax/libs/Leaflet.awesome-markers/2.0.2/leaflet.awesome-markers.css&quot;/&gt;\n",
              "    &lt;link rel=&quot;stylesheet&quot; href=&quot;https://cdn.jsdelivr.net/gh/python-visualization/folium/folium/templates/leaflet.awesome.rotate.min.css&quot;/&gt;\n",
              "    \n",
              "            &lt;meta name=&quot;viewport&quot; content=&quot;width=device-width,\n",
              "                initial-scale=1.0, maximum-scale=1.0, user-scalable=no&quot; /&gt;\n",
              "            &lt;style&gt;\n",
              "                #map_776136c93a2aac58881eb0d6829f33b9 {\n",
              "                    position: relative;\n",
              "                    width: 1200.0px;\n",
              "                    height: 800.0px;\n",
              "                    left: 0.0%;\n",
              "                    top: 0.0%;\n",
              "                }\n",
              "                .leaflet-container { font-size: 1rem; }\n",
              "            &lt;/style&gt;\n",
              "        \n",
              "&lt;/head&gt;\n",
              "&lt;body&gt;\n",
              "    \n",
              "    \n",
              "            &lt;div class=&quot;folium-map&quot; id=&quot;map_776136c93a2aac58881eb0d6829f33b9&quot; &gt;&lt;/div&gt;\n",
              "        \n",
              "&lt;/body&gt;\n",
              "&lt;script&gt;\n",
              "    \n",
              "    \n",
              "            var map_776136c93a2aac58881eb0d6829f33b9 = L.map(\n",
              "                &quot;map_776136c93a2aac58881eb0d6829f33b9&quot;,\n",
              "                {\n",
              "                    center: [11.540009269581281, 79.22009409850165],\n",
              "                    crs: L.CRS.EPSG3857,\n",
              "                    zoom: 4,\n",
              "                    zoomControl: true,\n",
              "                    preferCanvas: false,\n",
              "                }\n",
              "            );\n",
              "\n",
              "            \n",
              "\n",
              "        \n",
              "    \n",
              "            var tile_layer_73f10523fd45f71eed9766349f4db6d2 = L.tileLayer(\n",
              "                &quot;https://{s}.tile.openstreetmap.org/{z}/{x}/{y}.png&quot;,\n",
              "                {&quot;attribution&quot;: &quot;Data by \\u0026copy; \\u003ca target=\\&quot;_blank\\&quot; href=\\&quot;http://openstreetmap.org\\&quot;\\u003eOpenStreetMap\\u003c/a\\u003e, under \\u003ca target=\\&quot;_blank\\&quot; href=\\&quot;http://www.openstreetmap.org/copyright\\&quot;\\u003eODbL\\u003c/a\\u003e.&quot;, &quot;detectRetina&quot;: false, &quot;maxNativeZoom&quot;: 18, &quot;maxZoom&quot;: 18, &quot;minZoom&quot;: 0, &quot;noWrap&quot;: false, &quot;opacity&quot;: 1, &quot;subdomains&quot;: &quot;abc&quot;, &quot;tms&quot;: false}\n",
              "            ).addTo(map_776136c93a2aac58881eb0d6829f33b9);\n",
              "        \n",
              "    \n",
              "            var marker_1b201f1b4101a1b839624a33d1f74767 = L.marker(\n",
              "                [9.999489603448277, 78.1731512505747],\n",
              "                {}\n",
              "            ).addTo(map_776136c93a2aac58881eb0d6829f33b9);\n",
              "        \n",
              "    \n",
              "        var popup_e4d9b6ced4bfe6a269f2d590ef2cfae3 = L.popup({&quot;maxWidth&quot;: &quot;100%&quot;});\n",
              "\n",
              "        \n",
              "            \n",
              "                var html_97b4b95cbe3159a6dd241afa2ec01850 = $(`&lt;div id=&quot;html_97b4b95cbe3159a6dd241afa2ec01850&quot; style=&quot;width: 100.0%; height: 100.0%;&quot;&gt;The postcode brought me here&lt;/div&gt;`)[0];\n",
              "                popup_e4d9b6ced4bfe6a269f2d590ef2cfae3.setContent(html_97b4b95cbe3159a6dd241afa2ec01850);\n",
              "            \n",
              "        \n",
              "\n",
              "        marker_1b201f1b4101a1b839624a33d1f74767.bindPopup(popup_e4d9b6ced4bfe6a269f2d590ef2cfae3)\n",
              "        ;\n",
              "\n",
              "        \n",
              "    \n",
              "    \n",
              "            var marker_512c1d99f7b55b8a86265cef41d039b3 = L.marker(\n",
              "                [13.080528935714286, 80.26703694642858],\n",
              "                {}\n",
              "            ).addTo(map_776136c93a2aac58881eb0d6829f33b9);\n",
              "        \n",
              "    \n",
              "        var popup_42a5de85875ecbcd971dddcd562ceb8b = L.popup({&quot;maxWidth&quot;: &quot;100%&quot;});\n",
              "\n",
              "        \n",
              "            \n",
              "                var html_4f6bfcc8637586dd6d506fe7898a9152 = $(`&lt;div id=&quot;html_4f6bfcc8637586dd6d506fe7898a9152&quot; style=&quot;width: 100.0%; height: 100.0%;&quot;&gt;The postcode brought me here&lt;/div&gt;`)[0];\n",
              "                popup_42a5de85875ecbcd971dddcd562ceb8b.setContent(html_4f6bfcc8637586dd6d506fe7898a9152);\n",
              "            \n",
              "        \n",
              "\n",
              "        marker_512c1d99f7b55b8a86265cef41d039b3.bindPopup(popup_42a5de85875ecbcd971dddcd562ceb8b)\n",
              "        ;\n",
              "\n",
              "        \n",
              "    \n",
              "    \n",
              "            var marker_21807f76dfe87c8628631bbb9e51098c = L.marker(\n",
              "                [11.540009269581281, 79.22009409850165],\n",
              "                {}\n",
              "            ).addTo(map_776136c93a2aac58881eb0d6829f33b9);\n",
              "        \n",
              "    \n",
              "        var popup_ee95cd8e3b74fbf3bc469d7a094aefde = L.popup({&quot;maxWidth&quot;: &quot;100%&quot;});\n",
              "\n",
              "        \n",
              "            \n",
              "                var html_493e18ea327e2633a86b80ead6446483 = $(`&lt;div id=&quot;html_493e18ea327e2633a86b80ead6446483&quot; style=&quot;width: 100.0%; height: 100.0%;&quot;&gt;Middle!&lt;/div&gt;`)[0];\n",
              "                popup_ee95cd8e3b74fbf3bc469d7a094aefde.setContent(html_493e18ea327e2633a86b80ead6446483);\n",
              "            \n",
              "        \n",
              "\n",
              "        marker_21807f76dfe87c8628631bbb9e51098c.bindPopup(popup_ee95cd8e3b74fbf3bc469d7a094aefde)\n",
              "        ;\n",
              "\n",
              "        \n",
              "    \n",
              "&lt;/script&gt;\n",
              "&lt;/html&gt;\" style=\"position:absolute;width:100%;height:100%;left:0;top:0;border:none !important;\" allowfullscreen webkitallowfullscreen mozallowfullscreen></iframe></div></div>"
            ]
          },
          "metadata": {},
          "execution_count": 22
        },
        {
          "output_type": "execute_result",
          "data": {
            "text/plain": [
              "<folium.folium.Map at 0x7cb88ac0bd60>"
            ],
            "text/html": [
              "<div style=\"width:100%;\"><div style=\"position:relative;width:100%;height:0;padding-bottom:60%;\"><span style=\"color:#565656\">Make this Notebook Trusted to load map: File -> Trust Notebook</span><iframe srcdoc=\"&lt;!DOCTYPE html&gt;\n",
              "&lt;html&gt;\n",
              "&lt;head&gt;\n",
              "    \n",
              "    &lt;meta http-equiv=&quot;content-type&quot; content=&quot;text/html; charset=UTF-8&quot; /&gt;\n",
              "    \n",
              "        &lt;script&gt;\n",
              "            L_NO_TOUCH = false;\n",
              "            L_DISABLE_3D = false;\n",
              "        &lt;/script&gt;\n",
              "    \n",
              "    &lt;style&gt;html, body {width: 100%;height: 100%;margin: 0;padding: 0;}&lt;/style&gt;\n",
              "    &lt;style&gt;#map {position:absolute;top:0;bottom:0;right:0;left:0;}&lt;/style&gt;\n",
              "    &lt;script src=&quot;https://cdn.jsdelivr.net/npm/leaflet@1.9.3/dist/leaflet.js&quot;&gt;&lt;/script&gt;\n",
              "    &lt;script src=&quot;https://code.jquery.com/jquery-1.12.4.min.js&quot;&gt;&lt;/script&gt;\n",
              "    &lt;script src=&quot;https://cdn.jsdelivr.net/npm/bootstrap@5.2.2/dist/js/bootstrap.bundle.min.js&quot;&gt;&lt;/script&gt;\n",
              "    &lt;script src=&quot;https://cdnjs.cloudflare.com/ajax/libs/Leaflet.awesome-markers/2.0.2/leaflet.awesome-markers.js&quot;&gt;&lt;/script&gt;\n",
              "    &lt;link rel=&quot;stylesheet&quot; href=&quot;https://cdn.jsdelivr.net/npm/leaflet@1.9.3/dist/leaflet.css&quot;/&gt;\n",
              "    &lt;link rel=&quot;stylesheet&quot; href=&quot;https://cdn.jsdelivr.net/npm/bootstrap@5.2.2/dist/css/bootstrap.min.css&quot;/&gt;\n",
              "    &lt;link rel=&quot;stylesheet&quot; href=&quot;https://netdna.bootstrapcdn.com/bootstrap/3.0.0/css/bootstrap.min.css&quot;/&gt;\n",
              "    &lt;link rel=&quot;stylesheet&quot; href=&quot;https://cdn.jsdelivr.net/npm/@fortawesome/fontawesome-free@6.2.0/css/all.min.css&quot;/&gt;\n",
              "    &lt;link rel=&quot;stylesheet&quot; href=&quot;https://cdnjs.cloudflare.com/ajax/libs/Leaflet.awesome-markers/2.0.2/leaflet.awesome-markers.css&quot;/&gt;\n",
              "    &lt;link rel=&quot;stylesheet&quot; href=&quot;https://cdn.jsdelivr.net/gh/python-visualization/folium/folium/templates/leaflet.awesome.rotate.min.css&quot;/&gt;\n",
              "    \n",
              "            &lt;meta name=&quot;viewport&quot; content=&quot;width=device-width,\n",
              "                initial-scale=1.0, maximum-scale=1.0, user-scalable=no&quot; /&gt;\n",
              "            &lt;style&gt;\n",
              "                #map_db59e19be3cdb8fb3c8c745ec3cfd9ab {\n",
              "                    position: relative;\n",
              "                    width: 1200.0px;\n",
              "                    height: 800.0px;\n",
              "                    left: 0.0%;\n",
              "                    top: 0.0%;\n",
              "                }\n",
              "                .leaflet-container { font-size: 1rem; }\n",
              "            &lt;/style&gt;\n",
              "        \n",
              "&lt;/head&gt;\n",
              "&lt;body&gt;\n",
              "    \n",
              "    \n",
              "            &lt;div class=&quot;folium-map&quot; id=&quot;map_db59e19be3cdb8fb3c8c745ec3cfd9ab&quot; &gt;&lt;/div&gt;\n",
              "        \n",
              "&lt;/body&gt;\n",
              "&lt;script&gt;\n",
              "    \n",
              "    \n",
              "            var map_db59e19be3cdb8fb3c8c745ec3cfd9ab = L.map(\n",
              "                &quot;map_db59e19be3cdb8fb3c8c745ec3cfd9ab&quot;,\n",
              "                {\n",
              "                    center: [11.540009269581281, 79.22009409850165],\n",
              "                    crs: L.CRS.EPSG3857,\n",
              "                    zoom: 4,\n",
              "                    zoomControl: true,\n",
              "                    preferCanvas: false,\n",
              "                }\n",
              "            );\n",
              "\n",
              "            \n",
              "\n",
              "        \n",
              "    \n",
              "            var tile_layer_8d67a99997be07fc75e70de30e8f87d2 = L.tileLayer(\n",
              "                &quot;https://{s}.tile.openstreetmap.org/{z}/{x}/{y}.png&quot;,\n",
              "                {&quot;attribution&quot;: &quot;Data by \\u0026copy; \\u003ca target=\\&quot;_blank\\&quot; href=\\&quot;http://openstreetmap.org\\&quot;\\u003eOpenStreetMap\\u003c/a\\u003e, under \\u003ca target=\\&quot;_blank\\&quot; href=\\&quot;http://www.openstreetmap.org/copyright\\&quot;\\u003eODbL\\u003c/a\\u003e.&quot;, &quot;detectRetina&quot;: false, &quot;maxNativeZoom&quot;: 18, &quot;maxZoom&quot;: 18, &quot;minZoom&quot;: 0, &quot;noWrap&quot;: false, &quot;opacity&quot;: 1, &quot;subdomains&quot;: &quot;abc&quot;, &quot;tms&quot;: false}\n",
              "            ).addTo(map_db59e19be3cdb8fb3c8c745ec3cfd9ab);\n",
              "        \n",
              "    \n",
              "            var marker_599623afd7a2f9b98db6b1348119dbe5 = L.marker(\n",
              "                [9.999489603448277, 78.1731512505747],\n",
              "                {}\n",
              "            ).addTo(map_db59e19be3cdb8fb3c8c745ec3cfd9ab);\n",
              "        \n",
              "    \n",
              "        var popup_6b10c2a726b498c7968659792a50a4d6 = L.popup({&quot;maxWidth&quot;: &quot;100%&quot;});\n",
              "\n",
              "        \n",
              "            \n",
              "                var html_cc4109b9337df43453f52a1784b09a2f = $(`&lt;div id=&quot;html_cc4109b9337df43453f52a1784b09a2f&quot; style=&quot;width: 100.0%; height: 100.0%;&quot;&gt;The postcode brought me here&lt;/div&gt;`)[0];\n",
              "                popup_6b10c2a726b498c7968659792a50a4d6.setContent(html_cc4109b9337df43453f52a1784b09a2f);\n",
              "            \n",
              "        \n",
              "\n",
              "        marker_599623afd7a2f9b98db6b1348119dbe5.bindPopup(popup_6b10c2a726b498c7968659792a50a4d6)\n",
              "        ;\n",
              "\n",
              "        \n",
              "    \n",
              "    \n",
              "            var marker_532d318dc15c5391a675e6ab199f6e44 = L.marker(\n",
              "                [13.080528935714286, 80.26703694642858],\n",
              "                {}\n",
              "            ).addTo(map_db59e19be3cdb8fb3c8c745ec3cfd9ab);\n",
              "        \n",
              "    \n",
              "        var popup_6c71e09a8c231e50db28edba268df10a = L.popup({&quot;maxWidth&quot;: &quot;100%&quot;});\n",
              "\n",
              "        \n",
              "            \n",
              "                var html_e279209f36f26a5e70c50cb98a2313f6 = $(`&lt;div id=&quot;html_e279209f36f26a5e70c50cb98a2313f6&quot; style=&quot;width: 100.0%; height: 100.0%;&quot;&gt;The postcode brought me here&lt;/div&gt;`)[0];\n",
              "                popup_6c71e09a8c231e50db28edba268df10a.setContent(html_e279209f36f26a5e70c50cb98a2313f6);\n",
              "            \n",
              "        \n",
              "\n",
              "        marker_532d318dc15c5391a675e6ab199f6e44.bindPopup(popup_6c71e09a8c231e50db28edba268df10a)\n",
              "        ;\n",
              "\n",
              "        \n",
              "    \n",
              "    \n",
              "            var marker_3afccf939f97fa9dcdf9e249d058c94d = L.marker(\n",
              "                [11.540009269581281, 79.22009409850165],\n",
              "                {}\n",
              "            ).addTo(map_db59e19be3cdb8fb3c8c745ec3cfd9ab);\n",
              "        \n",
              "    \n",
              "        var popup_8670749ce960c8b25d598abe1590f83a = L.popup({&quot;maxWidth&quot;: &quot;100%&quot;});\n",
              "\n",
              "        \n",
              "            \n",
              "                var html_5f696cadba9319e94add7f183706f31c = $(`&lt;div id=&quot;html_5f696cadba9319e94add7f183706f31c&quot; style=&quot;width: 100.0%; height: 100.0%;&quot;&gt;Middle!&lt;/div&gt;`)[0];\n",
              "                popup_8670749ce960c8b25d598abe1590f83a.setContent(html_5f696cadba9319e94add7f183706f31c);\n",
              "            \n",
              "        \n",
              "\n",
              "        marker_3afccf939f97fa9dcdf9e249d058c94d.bindPopup(popup_8670749ce960c8b25d598abe1590f83a)\n",
              "        ;\n",
              "\n",
              "        \n",
              "    \n",
              "&lt;/script&gt;\n",
              "&lt;/html&gt;\" style=\"position:absolute;width:100%;height:100%;left:0;top:0;border:none !important;\" allowfullscreen webkitallowfullscreen mozallowfullscreen></iframe></div></div>"
            ]
          },
          "metadata": {},
          "execution_count": 23
        }
      ]
    },
    {
      "cell_type": "markdown",
      "metadata": {
        "id": "Za5KZF_Njy_l"
      },
      "source": [
        "### Find the distances between the two points\n",
        "\n",
        "We'll use `geopy` to find the geodesic distances between the points."
      ]
    },
    {
      "cell_type": "code",
      "metadata": {
        "colab": {
          "base_uri": "https://localhost:8080/"
        },
        "id": "parGXIGZj8wa",
        "outputId": "457729ce-b4f0-4869-b43f-27ef8c64f1a4"
      },
      "source": [
        "from geopy.distance import distance\n",
        "\n",
        "km = distance(location, location2)\n",
        "miles = distance(location, location2).miles\n",
        "\n",
        "print(\"Distance between postcodes:\")\n",
        "print(f\"{km}\")\n",
        "print(f\"{miles} miles\")"
      ],
      "execution_count": 14,
      "outputs": [
        {
          "output_type": "stream",
          "name": "stdout",
          "text": [
            "Distance between postcodes:\n",
            "410.2628545230755 km\n",
            "254.9255190456953 miles\n"
          ]
        }
      ]
    },
    {
      "cell_type": "markdown",
      "metadata": {
        "id": "x49edmJtkZcQ"
      },
      "source": [
        "### Folium bonus - Lines between points.\n",
        "\n",
        "A small but useful feature of Folium is the ability to draw lines between points, using `folium.PolyLine()`. This is shown below, where we connect a line between the two locations."
      ]
    },
    {
      "cell_type": "code",
      "metadata": {
        "colab": {
          "base_uri": "https://localhost:8080/",
          "height": 1000
        },
        "id": "3efwyHCnmBzY",
        "outputId": "e43e6889-a6ca-4d73-c0bb-e3620190543e"
      },
      "source": [
        "import folium\n",
        "\n",
        "# create a Folium map centred at the above location\n",
        "m = folium.Map(location=midpoint, zoom_start=4, width=1200, height=800)\n",
        "\n",
        "# add marker at the locations\n",
        "folium.Marker(location, popup=km).add_to(m)\n",
        "folium.Marker(location2, popup=km).add_to(m)\n",
        "\n",
        "# add line between points\n",
        "folium.PolyLine((location,location2)).add_to(m)\n",
        "\n",
        "m"
      ],
      "execution_count": 19,
      "outputs": [
        {
          "output_type": "execute_result",
          "data": {
            "text/plain": [
              "<folium.folium.Map at 0x7cb88b6cb730>"
            ],
            "text/html": [
              "<div style=\"width:100%;\"><div style=\"position:relative;width:100%;height:0;padding-bottom:60%;\"><span style=\"color:#565656\">Make this Notebook Trusted to load map: File -> Trust Notebook</span><iframe srcdoc=\"&lt;!DOCTYPE html&gt;\n",
              "&lt;html&gt;\n",
              "&lt;head&gt;\n",
              "    \n",
              "    &lt;meta http-equiv=&quot;content-type&quot; content=&quot;text/html; charset=UTF-8&quot; /&gt;\n",
              "    \n",
              "        &lt;script&gt;\n",
              "            L_NO_TOUCH = false;\n",
              "            L_DISABLE_3D = false;\n",
              "        &lt;/script&gt;\n",
              "    \n",
              "    &lt;style&gt;html, body {width: 100%;height: 100%;margin: 0;padding: 0;}&lt;/style&gt;\n",
              "    &lt;style&gt;#map {position:absolute;top:0;bottom:0;right:0;left:0;}&lt;/style&gt;\n",
              "    &lt;script src=&quot;https://cdn.jsdelivr.net/npm/leaflet@1.9.3/dist/leaflet.js&quot;&gt;&lt;/script&gt;\n",
              "    &lt;script src=&quot;https://code.jquery.com/jquery-1.12.4.min.js&quot;&gt;&lt;/script&gt;\n",
              "    &lt;script src=&quot;https://cdn.jsdelivr.net/npm/bootstrap@5.2.2/dist/js/bootstrap.bundle.min.js&quot;&gt;&lt;/script&gt;\n",
              "    &lt;script src=&quot;https://cdnjs.cloudflare.com/ajax/libs/Leaflet.awesome-markers/2.0.2/leaflet.awesome-markers.js&quot;&gt;&lt;/script&gt;\n",
              "    &lt;link rel=&quot;stylesheet&quot; href=&quot;https://cdn.jsdelivr.net/npm/leaflet@1.9.3/dist/leaflet.css&quot;/&gt;\n",
              "    &lt;link rel=&quot;stylesheet&quot; href=&quot;https://cdn.jsdelivr.net/npm/bootstrap@5.2.2/dist/css/bootstrap.min.css&quot;/&gt;\n",
              "    &lt;link rel=&quot;stylesheet&quot; href=&quot;https://netdna.bootstrapcdn.com/bootstrap/3.0.0/css/bootstrap.min.css&quot;/&gt;\n",
              "    &lt;link rel=&quot;stylesheet&quot; href=&quot;https://cdn.jsdelivr.net/npm/@fortawesome/fontawesome-free@6.2.0/css/all.min.css&quot;/&gt;\n",
              "    &lt;link rel=&quot;stylesheet&quot; href=&quot;https://cdnjs.cloudflare.com/ajax/libs/Leaflet.awesome-markers/2.0.2/leaflet.awesome-markers.css&quot;/&gt;\n",
              "    &lt;link rel=&quot;stylesheet&quot; href=&quot;https://cdn.jsdelivr.net/gh/python-visualization/folium/folium/templates/leaflet.awesome.rotate.min.css&quot;/&gt;\n",
              "    \n",
              "            &lt;meta name=&quot;viewport&quot; content=&quot;width=device-width,\n",
              "                initial-scale=1.0, maximum-scale=1.0, user-scalable=no&quot; /&gt;\n",
              "            &lt;style&gt;\n",
              "                #map_2ee85d0dc0586e980a9b384834cdc3f3 {\n",
              "                    position: relative;\n",
              "                    width: 1200.0px;\n",
              "                    height: 800.0px;\n",
              "                    left: 0.0%;\n",
              "                    top: 0.0%;\n",
              "                }\n",
              "                .leaflet-container { font-size: 1rem; }\n",
              "            &lt;/style&gt;\n",
              "        \n",
              "&lt;/head&gt;\n",
              "&lt;body&gt;\n",
              "    \n",
              "    \n",
              "            &lt;div class=&quot;folium-map&quot; id=&quot;map_2ee85d0dc0586e980a9b384834cdc3f3&quot; &gt;&lt;/div&gt;\n",
              "        \n",
              "&lt;/body&gt;\n",
              "&lt;script&gt;\n",
              "    \n",
              "    \n",
              "            var map_2ee85d0dc0586e980a9b384834cdc3f3 = L.map(\n",
              "                &quot;map_2ee85d0dc0586e980a9b384834cdc3f3&quot;,\n",
              "                {\n",
              "                    center: [11.540009269581281, 79.22009409850165],\n",
              "                    crs: L.CRS.EPSG3857,\n",
              "                    zoom: 4,\n",
              "                    zoomControl: true,\n",
              "                    preferCanvas: false,\n",
              "                }\n",
              "            );\n",
              "\n",
              "            \n",
              "\n",
              "        \n",
              "    \n",
              "            var tile_layer_ad012fb13a5270d5da52b43e0aae8e9b = L.tileLayer(\n",
              "                &quot;https://{s}.tile.openstreetmap.org/{z}/{x}/{y}.png&quot;,\n",
              "                {&quot;attribution&quot;: &quot;Data by \\u0026copy; \\u003ca target=\\&quot;_blank\\&quot; href=\\&quot;http://openstreetmap.org\\&quot;\\u003eOpenStreetMap\\u003c/a\\u003e, under \\u003ca target=\\&quot;_blank\\&quot; href=\\&quot;http://www.openstreetmap.org/copyright\\&quot;\\u003eODbL\\u003c/a\\u003e.&quot;, &quot;detectRetina&quot;: false, &quot;maxNativeZoom&quot;: 18, &quot;maxZoom&quot;: 18, &quot;minZoom&quot;: 0, &quot;noWrap&quot;: false, &quot;opacity&quot;: 1, &quot;subdomains&quot;: &quot;abc&quot;, &quot;tms&quot;: false}\n",
              "            ).addTo(map_2ee85d0dc0586e980a9b384834cdc3f3);\n",
              "        \n",
              "    \n",
              "            var marker_e9dd63ff17278ca7eb98e49387b46a99 = L.marker(\n",
              "                [9.999489603448277, 78.1731512505747],\n",
              "                {}\n",
              "            ).addTo(map_2ee85d0dc0586e980a9b384834cdc3f3);\n",
              "        \n",
              "    \n",
              "        var popup_a915f32086831ad7eb8632b0603e1bde = L.popup({&quot;maxWidth&quot;: &quot;100%&quot;});\n",
              "\n",
              "        \n",
              "            \n",
              "                var html_b763c8f77878a6f171838a9c7ca4a4b4 = $(`&lt;div id=&quot;html_b763c8f77878a6f171838a9c7ca4a4b4&quot; style=&quot;width: 100.0%; height: 100.0%;&quot;&gt;410.2628545230755 km&lt;/div&gt;`)[0];\n",
              "                popup_a915f32086831ad7eb8632b0603e1bde.setContent(html_b763c8f77878a6f171838a9c7ca4a4b4);\n",
              "            \n",
              "        \n",
              "\n",
              "        marker_e9dd63ff17278ca7eb98e49387b46a99.bindPopup(popup_a915f32086831ad7eb8632b0603e1bde)\n",
              "        ;\n",
              "\n",
              "        \n",
              "    \n",
              "    \n",
              "            var marker_7684becb7ff01c42d2effca2d693def6 = L.marker(\n",
              "                [13.080528935714286, 80.26703694642858],\n",
              "                {}\n",
              "            ).addTo(map_2ee85d0dc0586e980a9b384834cdc3f3);\n",
              "        \n",
              "    \n",
              "        var popup_5dc841c908d5a35045268acaf1350853 = L.popup({&quot;maxWidth&quot;: &quot;100%&quot;});\n",
              "\n",
              "        \n",
              "            \n",
              "                var html_3fee56def5b7fa095a277c79601ee7d0 = $(`&lt;div id=&quot;html_3fee56def5b7fa095a277c79601ee7d0&quot; style=&quot;width: 100.0%; height: 100.0%;&quot;&gt;410.2628545230755 km&lt;/div&gt;`)[0];\n",
              "                popup_5dc841c908d5a35045268acaf1350853.setContent(html_3fee56def5b7fa095a277c79601ee7d0);\n",
              "            \n",
              "        \n",
              "\n",
              "        marker_7684becb7ff01c42d2effca2d693def6.bindPopup(popup_5dc841c908d5a35045268acaf1350853)\n",
              "        ;\n",
              "\n",
              "        \n",
              "    \n",
              "    \n",
              "            var poly_line_7df5efb46d9b546d23430c072eef8868 = L.polyline(\n",
              "                [[9.999489603448277, 78.1731512505747], [13.080528935714286, 80.26703694642858]],\n",
              "                {&quot;bubblingMouseEvents&quot;: true, &quot;color&quot;: &quot;#3388ff&quot;, &quot;dashArray&quot;: null, &quot;dashOffset&quot;: null, &quot;fill&quot;: false, &quot;fillColor&quot;: &quot;#3388ff&quot;, &quot;fillOpacity&quot;: 0.2, &quot;fillRule&quot;: &quot;evenodd&quot;, &quot;lineCap&quot;: &quot;round&quot;, &quot;lineJoin&quot;: &quot;round&quot;, &quot;noClip&quot;: false, &quot;opacity&quot;: 1.0, &quot;smoothFactor&quot;: 1.0, &quot;stroke&quot;: true, &quot;weight&quot;: 3}\n",
              "            ).addTo(map_2ee85d0dc0586e980a9b384834cdc3f3);\n",
              "        \n",
              "&lt;/script&gt;\n",
              "&lt;/html&gt;\" style=\"position:absolute;width:100%;height:100%;left:0;top:0;border:none !important;\" allowfullscreen webkitallowfullscreen mozallowfullscreen></iframe></div></div>"
            ]
          },
          "metadata": {},
          "execution_count": 19
        }
      ]
    },
    {
      "cell_type": "code",
      "source": [],
      "metadata": {
        "id": "8RjZiiiCNy9Z"
      },
      "execution_count": null,
      "outputs": []
    },
    {
      "cell_type": "markdown",
      "source": [
        "## Credit:"
      ],
      "metadata": {
        "id": "pLUR2xTCN00S"
      }
    }
  ]
}